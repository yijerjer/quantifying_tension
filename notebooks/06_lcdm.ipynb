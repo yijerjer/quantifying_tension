{
 "metadata": {
  "language_info": {
   "codemirror_mode": {
    "name": "ipython",
    "version": 3
   },
   "file_extension": ".py",
   "mimetype": "text/x-python",
   "name": "python",
   "nbconvert_exporter": "python",
   "pygments_lexer": "ipython3",
   "version": 3
  },
  "orig_nbformat": 2
 },
 "nbformat": 4,
 "nbformat_minor": 2,
 "cells": [
  {
   "cell_type": "code",
   "execution_count": null,
   "metadata": {},
   "outputs": [],
   "source": [
    "from google.colab import drive\n",
    "drive.mount('/content/drive')"
   ]
  },
  {
   "cell_type": "code",
   "execution_count": null,
   "metadata": {},
   "outputs": [],
   "source": [
    "!pip install anesthetic\n",
    "import os\n",
    "os.chdir(\"/content/drive/MyDrive/project\")"
   ]
  },
  {
   "cell_type": "code",
   "execution_count": null,
   "metadata": {},
   "outputs": [],
   "source": [
    "import time\n",
    "import numpy as np\n",
    "import matplotlib.pyplot as plt\n",
    "from scipy.stats import gaussian_kde\n",
    "import torch\n",
    "import torch.nn as nn\n",
    "import torch.distributions as dists\n",
    "import torch.optim as optim\n",
    "from torch.distributions import MultivariateNormal\n",
    "from torch.distributions.distribution import Distribution\n",
    "from np_utils import simple_data, curved_data, planck_des_data\n",
    "from torch_utils import rotation_test, get_limits, TrainUtil\n",
    "from tension_net import TensionNet, TensionNet1, TensionNet2, TensionNet3\n",
    "from tension_quantify import GaussianKDE, BayesFactorKDE, BayesFactor"
   ]
  },
  {
   "cell_type": "code",
   "execution_count": null,
   "metadata": {},
   "outputs": [],
   "source": [
    "device = torch.device(\"cuda\" if torch.cuda.is_available() else \"cpu\")"
   ]
  },
  {
   "cell_type": "code",
   "execution_count": null,
   "metadata": {},
   "outputs": [],
   "source": [
    "(X1, X1_weights, X0, X0_weights,\n",
    " X_prior, params) = planck_des_data(only_lcdm=False)\n",
    "weights = { \"XA\": X0_weights, \"XB\": X1_weights }"
   ]
  },
  {
   "cell_type": "code",
   "execution_count": null,
   "metadata": {},
   "outputs": [],
   "source": [
    "start = time.time()\n",
    "tension_R = TensionNet1(6, hidden_size=64)\n",
    "criterion = BayesFactorKDE(device, n_points=1000, logsumexp=True)\n",
    "optimizer = optim.Adam(tension_R.parameters(), lr=0.001)\n",
    "\n",
    "train_util_R = TrainUtil(tension_R, optimizer, criterion, device)\n",
    "losses_R = train_util_R.train(X0, X1, X_prior, weights=weights, n_iter=1000)\n",
    "print(\"KDE time taken: \", time.time() - start)"
   ]
  },
  {
   "cell_type": "code",
   "execution_count": null,
   "metadata": {},
   "outputs": [],
   "source": [
    "fig, axs = plt.subplots(1, 3, figsize=(15, 5))\n",
    "\n",
    "train_util_R_1.plot_loss(axs[0])\n",
    "train_util_R_1.plot_marginalised_dists(axs[1])\n",
    "train_util_R_1.plot_marginalised_dists(axs[2], flat_prior=True)\n",
    "fig.savefig(\"images/loss_lcdm_3.png\")"
   ]
  },
  {
   "cell_type": "code",
   "execution_count": null,
   "metadata": {},
   "outputs": [],
   "source": [
    "fig, axs = plt.subplots(6, 6, figsize=(15, 15), sharey='row', sharex='col')\n",
    "fig.suptitle(f\"Contour plot of tension coordinate, with Bayes Factor as loss function. R = {round(losses_R_1[-1], 4)}\")\n",
    "train_util_R_1.visualise_coordinates_all(fig, axs, param_names=params,\n",
    "                                       sync_levels=True, tension_as_param=True)\n",
    "fig.savefig(\"images/contour_lcdm_3.png\")"
   ]
  }
 ]
}